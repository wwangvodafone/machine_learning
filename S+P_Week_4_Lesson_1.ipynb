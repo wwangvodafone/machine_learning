{
  "nbformat": 4,
  "nbformat_minor": 0,
  "metadata": {
    "colab": {
      "name": "S+P Week 4 Lesson 1.ipynb",
      "provenance": [],
      "collapsed_sections": [],
      "toc_visible": true,
      "include_colab_link": true
    },
    "kernelspec": {
      "display_name": "Python 3",
      "name": "python3"
    }
  },
  "cells": [
    {
      "cell_type": "markdown",
      "metadata": {
        "id": "view-in-github",
        "colab_type": "text"
      },
      "source": [
        "<a href=\"https://colab.research.google.com/github/wwangvodafone/machine_learning/blob/master/S%2BP_Week_4_Lesson_1.ipynb\" target=\"_parent\"><img src=\"https://colab.research.google.com/assets/colab-badge.svg\" alt=\"Open In Colab\"/></a>"
      ]
    },
    {
      "cell_type": "code",
      "metadata": {
        "id": "zX4Kg8DUTKWO"
      },
      "source": [
        "#@title Licensed under the Apache License, Version 2.0 (the \"License\");\n",
        "# you may not use this file except in compliance with the License.\n",
        "# You may obtain a copy of the License at\n",
        "#\n",
        "# https://www.apache.org/licenses/LICENSE-2.0\n",
        "#\n",
        "# Unless required by applicable law or agreed to in writing, software\n",
        "# distributed under the License is distributed on an \"AS IS\" BASIS,\n",
        "# WITHOUT WARRANTIES OR CONDITIONS OF ANY KIND, either express or implied.\n",
        "# See the License for the specific language governing permissions and\n",
        "# limitations under the License."
      ],
      "execution_count": null,
      "outputs": []
    },
    {
      "cell_type": "markdown",
      "metadata": {
        "id": "view-in-github"
      },
      "source": [
        "<a href=\"https://colab.research.google.com/github/lmoroney/dlaicourse/blob/master/TensorFlow%20In%20Practice/Course%204%20-%20S%2BP/S%2BP%20Week%204%20Lesson%201.ipynb\" target=\"_parent\"><img src=\"https://colab.research.google.com/assets/colab-badge.svg\" alt=\"Open In Colab\"/></a>"
      ]
    },
    {
      "cell_type": "code",
      "metadata": {
        "cellView": "both",
        "id": "D1J15Vh_1Jih"
      },
      "source": [
        "try:\n",
        "  # %tensorflow_version only exists in Colab.\n",
        "  %tensorflow_version 2.x\n",
        "except Exception:\n",
        "  pass\n"
      ],
      "execution_count": null,
      "outputs": []
    },
    {
      "cell_type": "code",
      "metadata": {
        "colab": {
          "base_uri": "https://localhost:8080/"
        },
        "id": "BOjujz601HcS",
        "outputId": "256ce75b-c184-4be6-a7f8-26aa43f61830"
      },
      "source": [
        "import tensorflow as tf\n",
        "import numpy as np\n",
        "import matplotlib.pyplot as plt\n",
        "print(tf.__version__)"
      ],
      "execution_count": null,
      "outputs": [
        {
          "output_type": "stream",
          "text": [
            "2.4.1\n"
          ],
          "name": "stdout"
        }
      ]
    },
    {
      "cell_type": "code",
      "metadata": {
        "id": "Zswl7jRtGzkk"
      },
      "source": [
        "def plot_series(time, series, format=\"-\", start=0, end=None):\n",
        "    plt.plot(time[start:end], series[start:end], format)\n",
        "    plt.xlabel(\"Time\")\n",
        "    plt.ylabel(\"Value\")\n",
        "    plt.grid(True)\n",
        "\n",
        "def trend(time, slope=0):\n",
        "    return slope * time\n",
        "\n",
        "def seasonal_pattern(season_time):\n",
        "    \"\"\"Just an arbitrary pattern, you can change it if you wish\"\"\"\n",
        "    return np.where(season_time < 0.4,\n",
        "                    np.cos(season_time * 2 * np.pi),\n",
        "                    1 / np.exp(3 * season_time))\n",
        "\n",
        "def seasonality(time, period, amplitude=1, phase=0):\n",
        "    \"\"\"Repeats the same pattern at each period\"\"\"\n",
        "    season_time = ((time + phase) % period) / period\n",
        "    return amplitude * seasonal_pattern(season_time)\n",
        "\n",
        "def noise(time, noise_level=1, seed=None):\n",
        "    rnd = np.random.RandomState(seed)\n",
        "    return rnd.randn(len(time)) * noise_level\n",
        "\n",
        "time = np.arange(4 * 365 + 1, dtype=\"float32\")\n",
        "baseline = 10\n",
        "series = trend(time, 0.1)  \n",
        "baseline = 10\n",
        "amplitude = 40\n",
        "slope = 0.05\n",
        "noise_level = 5\n",
        "\n",
        "# Create the series\n",
        "series = baseline + trend(time, slope) + seasonality(time, period=365, amplitude=amplitude)\n",
        "# Update with noise\n",
        "series += noise(time, noise_level, seed=42)\n",
        "\n",
        "split_time = 1000\n",
        "time_train = time[:split_time]\n",
        "x_train = series[:split_time]\n",
        "time_valid = time[split_time:]\n",
        "x_valid = series[split_time:]\n",
        "\n",
        "window_size = 20\n",
        "batch_size = 32\n",
        "shuffle_buffer_size = 1000"
      ],
      "execution_count": null,
      "outputs": []
    },
    {
      "cell_type": "code",
      "metadata": {
        "id": "4sTTIOCbyShY"
      },
      "source": [
        "def windowed_dataset(series, window_size, batch_size, shuffle_buffer):\n",
        "    series = tf.expand_dims(series, axis=-1)\n",
        "    ds = tf.data.Dataset.from_tensor_slices(series)\n",
        "    ds = ds.window(window_size + 1, shift=1, drop_remainder=True)\n",
        "    ds = ds.flat_map(lambda w: w.batch(window_size + 1))\n",
        "    ds = ds.shuffle(shuffle_buffer)\n",
        "    ds = ds.map(lambda w: (w[:-1], w[1:]))\n",
        "    return ds.batch(batch_size).prefetch(1)"
      ],
      "execution_count": null,
      "outputs": []
    },
    {
      "cell_type": "code",
      "metadata": {
        "id": "_eaAX9g_jS5W"
      },
      "source": [
        "def model_forecast(model, series, window_size):\n",
        "    ds = tf.data.Dataset.from_tensor_slices(series)\n",
        "    ds = ds.window(window_size, shift=1, drop_remainder=True)\n",
        "    ds = ds.flat_map(lambda w: w.batch(window_size))\n",
        "    ds = ds.batch(32).prefetch(1)\n",
        "    forecast = model.predict(ds)\n",
        "    return forecast"
      ],
      "execution_count": null,
      "outputs": []
    },
    {
      "cell_type": "code",
      "metadata": {
        "colab": {
          "base_uri": "https://localhost:8080/"
        },
        "id": "Yqc2GTsps0qf",
        "outputId": "86592184-fa54-4857-de67-82eddf565f6d"
      },
      "source": [
        "tf.keras.backend.clear_session()\n",
        "tf.random.set_seed(51)\n",
        "np.random.seed(51)\n",
        "\n",
        "window_size = 30\n",
        "train_set = windowed_dataset(x_train, window_size, batch_size=128, shuffle_buffer=shuffle_buffer_size)\n",
        "\n",
        "model = tf.keras.models.Sequential([\n",
        "  tf.keras.layers.Conv1D(filters=32, kernel_size=5,\n",
        "                      strides=1, padding=\"causal\",\n",
        "                      activation=\"relu\",\n",
        "                      input_shape=[None, 1]),\n",
        "  tf.keras.layers.Bidirectional(tf.keras.layers.LSTM(32, return_sequences=True)),\n",
        "  tf.keras.layers.Bidirectional(tf.keras.layers.LSTM(32, return_sequences=True)),\n",
        "  tf.keras.layers.Dense(1),\n",
        "  tf.keras.layers.Lambda(lambda x: x * 200)\n",
        "])\n",
        "lr_schedule = tf.keras.callbacks.LearningRateScheduler(\n",
        "    lambda epoch: 1e-8 * 10**(epoch / 20))\n",
        "optimizer = tf.keras.optimizers.SGD(lr=1e-8, momentum=0.9)\n",
        "model.compile(loss=tf.keras.losses.Huber(),\n",
        "              optimizer=optimizer,\n",
        "              metrics=[\"mae\"])\n",
        "history = model.fit(train_set, epochs=100, callbacks=[lr_schedule])"
      ],
      "execution_count": null,
      "outputs": [
        {
          "output_type": "stream",
          "text": [
            "Epoch 1/100\n",
            "8/8 [==============================] - 7s 82ms/step - loss: 73.2144 - mae: 73.7136\n",
            "Epoch 2/100\n",
            "8/8 [==============================] - 1s 72ms/step - loss: 71.8829 - mae: 72.3820\n",
            "Epoch 3/100\n",
            "8/8 [==============================] - 1s 71ms/step - loss: 71.1747 - mae: 71.6739\n",
            "Epoch 4/100\n",
            "8/8 [==============================] - 1s 68ms/step - loss: 69.8038 - mae: 70.3031\n",
            "Epoch 5/100\n",
            "8/8 [==============================] - 1s 70ms/step - loss: 69.3436 - mae: 69.8427\n",
            "Epoch 6/100\n",
            "8/8 [==============================] - 1s 68ms/step - loss: 66.7656 - mae: 67.2644\n",
            "Epoch 7/100\n",
            "8/8 [==============================] - 1s 72ms/step - loss: 64.1345 - mae: 64.6338\n",
            "Epoch 8/100\n",
            "8/8 [==============================] - 1s 71ms/step - loss: 62.0534 - mae: 62.5524\n",
            "Epoch 9/100\n",
            "8/8 [==============================] - 1s 67ms/step - loss: 59.5496 - mae: 60.0484\n",
            "Epoch 10/100\n",
            "8/8 [==============================] - 1s 69ms/step - loss: 56.8676 - mae: 57.3663\n",
            "Epoch 11/100\n",
            "8/8 [==============================] - 1s 69ms/step - loss: 53.4425 - mae: 53.9410\n",
            "Epoch 12/100\n",
            "8/8 [==============================] - 1s 68ms/step - loss: 50.2228 - mae: 50.7210\n",
            "Epoch 13/100\n",
            "8/8 [==============================] - 1s 66ms/step - loss: 46.3035 - mae: 46.8018\n",
            "Epoch 14/100\n",
            "8/8 [==============================] - 1s 69ms/step - loss: 42.0688 - mae: 42.5667\n",
            "Epoch 15/100\n",
            "8/8 [==============================] - 1s 65ms/step - loss: 40.8007 - mae: 41.2987\n",
            "Epoch 16/100\n",
            "8/8 [==============================] - 1s 69ms/step - loss: 39.5780 - mae: 40.0761\n",
            "Epoch 17/100\n",
            "8/8 [==============================] - 1s 71ms/step - loss: 38.5451 - mae: 39.0427\n",
            "Epoch 18/100\n",
            "8/8 [==============================] - 1s 68ms/step - loss: 36.5833 - mae: 37.0807\n",
            "Epoch 19/100\n",
            "8/8 [==============================] - 1s 67ms/step - loss: 35.1046 - mae: 35.6015\n",
            "Epoch 20/100\n",
            "8/8 [==============================] - 1s 70ms/step - loss: 33.7899 - mae: 34.2867\n",
            "Epoch 21/100\n",
            "8/8 [==============================] - 1s 68ms/step - loss: 32.1895 - mae: 32.6859\n",
            "Epoch 22/100\n",
            "8/8 [==============================] - 1s 67ms/step - loss: 31.0423 - mae: 31.5382\n",
            "Epoch 23/100\n",
            "8/8 [==============================] - 1s 68ms/step - loss: 29.7344 - mae: 30.2301\n",
            "Epoch 24/100\n",
            "8/8 [==============================] - 1s 72ms/step - loss: 29.0166 - mae: 29.5123\n",
            "Epoch 25/100\n",
            "8/8 [==============================] - 1s 72ms/step - loss: 27.9036 - mae: 28.3994\n",
            "Epoch 26/100\n",
            "8/8 [==============================] - 1s 73ms/step - loss: 26.8640 - mae: 27.3599\n",
            "Epoch 27/100\n",
            "8/8 [==============================] - 1s 71ms/step - loss: 25.6865 - mae: 26.1822\n",
            "Epoch 28/100\n",
            "8/8 [==============================] - 1s 69ms/step - loss: 24.1239 - mae: 24.6191\n",
            "Epoch 29/100\n",
            "8/8 [==============================] - 1s 70ms/step - loss: 23.0825 - mae: 23.5770\n",
            "Epoch 30/100\n",
            "8/8 [==============================] - 1s 68ms/step - loss: 22.1338 - mae: 22.6283\n",
            "Epoch 31/100\n",
            "8/8 [==============================] - 1s 68ms/step - loss: 20.8620 - mae: 21.3561\n",
            "Epoch 32/100\n",
            "8/8 [==============================] - 1s 69ms/step - loss: 19.4149 - mae: 19.9078\n",
            "Epoch 33/100\n",
            "8/8 [==============================] - 1s 71ms/step - loss: 18.2306 - mae: 18.7229\n",
            "Epoch 34/100\n",
            "8/8 [==============================] - 1s 68ms/step - loss: 17.2473 - mae: 17.7395\n",
            "Epoch 35/100\n",
            "8/8 [==============================] - 1s 70ms/step - loss: 16.4367 - mae: 16.9283\n",
            "Epoch 36/100\n",
            "8/8 [==============================] - 1s 69ms/step - loss: 15.4802 - mae: 15.9713\n",
            "Epoch 37/100\n",
            "8/8 [==============================] - 1s 69ms/step - loss: 15.1188 - mae: 15.6096\n",
            "Epoch 38/100\n",
            "8/8 [==============================] - 1s 72ms/step - loss: 14.8359 - mae: 15.3263\n",
            "Epoch 39/100\n",
            "8/8 [==============================] - 1s 69ms/step - loss: 14.2109 - mae: 14.7017\n",
            "Epoch 40/100\n",
            "8/8 [==============================] - 1s 71ms/step - loss: 13.6464 - mae: 14.1370\n",
            "Epoch 41/100\n",
            "8/8 [==============================] - 1s 68ms/step - loss: 13.2547 - mae: 13.7443\n",
            "Epoch 42/100\n",
            "8/8 [==============================] - 1s 70ms/step - loss: 12.3972 - mae: 12.8866\n",
            "Epoch 43/100\n",
            "8/8 [==============================] - 1s 67ms/step - loss: 12.0339 - mae: 12.5230\n",
            "Epoch 44/100\n",
            "8/8 [==============================] - 1s 70ms/step - loss: 11.1986 - mae: 11.6874\n",
            "Epoch 45/100\n",
            "8/8 [==============================] - 1s 70ms/step - loss: 10.2202 - mae: 10.7073\n",
            "Epoch 46/100\n",
            "8/8 [==============================] - 1s 72ms/step - loss: 9.6852 - mae: 10.1714\n",
            "Epoch 47/100\n",
            "8/8 [==============================] - 1s 67ms/step - loss: 9.2760 - mae: 9.7615\n",
            "Epoch 48/100\n",
            "8/8 [==============================] - 1s 70ms/step - loss: 8.5543 - mae: 9.0389\n",
            "Epoch 49/100\n",
            "8/8 [==============================] - 1s 69ms/step - loss: 8.1622 - mae: 8.6462\n",
            "Epoch 50/100\n",
            "8/8 [==============================] - 1s 69ms/step - loss: 7.7291 - mae: 8.2137\n",
            "Epoch 51/100\n",
            "8/8 [==============================] - 1s 70ms/step - loss: 7.3276 - mae: 7.8110\n",
            "Epoch 52/100\n",
            "8/8 [==============================] - 1s 69ms/step - loss: 7.1120 - mae: 7.5944\n",
            "Epoch 53/100\n",
            "8/8 [==============================] - 1s 67ms/step - loss: 6.7154 - mae: 7.1969\n",
            "Epoch 54/100\n",
            "8/8 [==============================] - 1s 69ms/step - loss: 6.2869 - mae: 6.7678\n",
            "Epoch 55/100\n",
            "8/8 [==============================] - 1s 72ms/step - loss: 5.9291 - mae: 6.4099\n",
            "Epoch 56/100\n",
            "8/8 [==============================] - 1s 67ms/step - loss: 5.7803 - mae: 6.2608\n",
            "Epoch 57/100\n",
            "8/8 [==============================] - 1s 69ms/step - loss: 5.4842 - mae: 5.9633\n",
            "Epoch 58/100\n",
            "8/8 [==============================] - 1s 68ms/step - loss: 5.3119 - mae: 5.7892\n",
            "Epoch 59/100\n",
            "8/8 [==============================] - 1s 69ms/step - loss: 5.0329 - mae: 5.5102\n",
            "Epoch 60/100\n",
            "8/8 [==============================] - 1s 70ms/step - loss: 4.9084 - mae: 5.3847\n",
            "Epoch 61/100\n",
            "8/8 [==============================] - 1s 69ms/step - loss: 4.9193 - mae: 5.3962\n",
            "Epoch 62/100\n",
            "8/8 [==============================] - 1s 69ms/step - loss: 4.6195 - mae: 5.0955\n",
            "Epoch 63/100\n",
            "8/8 [==============================] - 1s 68ms/step - loss: 4.8016 - mae: 5.2787\n",
            "Epoch 64/100\n",
            "8/8 [==============================] - 1s 70ms/step - loss: 5.1706 - mae: 5.6507\n",
            "Epoch 65/100\n",
            "8/8 [==============================] - 1s 71ms/step - loss: 5.9414 - mae: 6.4252\n",
            "Epoch 66/100\n",
            "8/8 [==============================] - 1s 69ms/step - loss: 5.9461 - mae: 6.4294\n",
            "Epoch 67/100\n",
            "8/8 [==============================] - 1s 70ms/step - loss: 5.0065 - mae: 5.4869\n",
            "Epoch 68/100\n",
            "8/8 [==============================] - 1s 71ms/step - loss: 4.6521 - mae: 5.1302\n",
            "Epoch 69/100\n",
            "8/8 [==============================] - 1s 71ms/step - loss: 5.9615 - mae: 6.4464\n",
            "Epoch 70/100\n",
            "8/8 [==============================] - 1s 73ms/step - loss: 6.5739 - mae: 7.0607\n",
            "Epoch 71/100\n",
            "8/8 [==============================] - 1s 71ms/step - loss: 5.1765 - mae: 5.6573\n",
            "Epoch 72/100\n",
            "8/8 [==============================] - 1s 72ms/step - loss: 6.7160 - mae: 7.2043\n",
            "Epoch 73/100\n",
            "8/8 [==============================] - 1s 69ms/step - loss: 6.5402 - mae: 7.0250\n",
            "Epoch 74/100\n",
            "8/8 [==============================] - 1s 68ms/step - loss: 6.5909 - mae: 7.0771\n",
            "Epoch 75/100\n",
            "8/8 [==============================] - 1s 69ms/step - loss: 7.7329 - mae: 8.2216\n",
            "Epoch 76/100\n",
            "8/8 [==============================] - 1s 68ms/step - loss: 8.1838 - mae: 8.6738\n",
            "Epoch 77/100\n",
            "8/8 [==============================] - 1s 68ms/step - loss: 8.3558 - mae: 8.8432\n",
            "Epoch 78/100\n",
            "8/8 [==============================] - 1s 68ms/step - loss: 10.0654 - mae: 10.5564\n",
            "Epoch 79/100\n",
            "8/8 [==============================] - 1s 67ms/step - loss: 11.1847 - mae: 11.6728\n",
            "Epoch 80/100\n",
            "8/8 [==============================] - 1s 68ms/step - loss: 11.8593 - mae: 12.3523\n",
            "Epoch 81/100\n",
            "8/8 [==============================] - 1s 68ms/step - loss: 11.8778 - mae: 12.3695\n",
            "Epoch 82/100\n",
            "8/8 [==============================] - 1s 70ms/step - loss: 13.8763 - mae: 14.3682\n",
            "Epoch 83/100\n",
            "8/8 [==============================] - 1s 69ms/step - loss: 12.1574 - mae: 12.6511\n",
            "Epoch 84/100\n",
            "8/8 [==============================] - 1s 72ms/step - loss: 12.8738 - mae: 13.3674\n",
            "Epoch 85/100\n",
            "8/8 [==============================] - 1s 74ms/step - loss: 26.3101 - mae: 26.8084\n",
            "Epoch 86/100\n",
            "8/8 [==============================] - 1s 70ms/step - loss: 20.7720 - mae: 21.2678\n",
            "Epoch 87/100\n",
            "8/8 [==============================] - 1s 70ms/step - loss: 17.7690 - mae: 18.2648\n",
            "Epoch 88/100\n",
            "8/8 [==============================] - 1s 70ms/step - loss: 10.5469 - mae: 11.0359\n",
            "Epoch 89/100\n",
            "8/8 [==============================] - 1s 72ms/step - loss: 12.9137 - mae: 13.4060\n",
            "Epoch 90/100\n",
            "8/8 [==============================] - 1s 70ms/step - loss: 27.7376 - mae: 28.2361\n",
            "Epoch 91/100\n",
            "8/8 [==============================] - 1s 70ms/step - loss: 30.9093 - mae: 31.4068\n",
            "Epoch 92/100\n",
            "8/8 [==============================] - 1s 69ms/step - loss: 16.4230 - mae: 16.9157\n",
            "Epoch 93/100\n",
            "8/8 [==============================] - 1s 72ms/step - loss: 14.3047 - mae: 14.7989\n",
            "Epoch 94/100\n",
            "8/8 [==============================] - 1s 77ms/step - loss: 14.8871 - mae: 15.3785\n",
            "Epoch 95/100\n",
            "8/8 [==============================] - 1s 74ms/step - loss: 14.2217 - mae: 14.7149\n",
            "Epoch 96/100\n",
            "8/8 [==============================] - 1s 68ms/step - loss: 12.3463 - mae: 12.8354\n",
            "Epoch 97/100\n",
            "8/8 [==============================] - 1s 71ms/step - loss: 19.3767 - mae: 19.8725\n",
            "Epoch 98/100\n",
            "8/8 [==============================] - 1s 69ms/step - loss: 12.7906 - mae: 13.2822\n",
            "Epoch 99/100\n",
            "8/8 [==============================] - 1s 69ms/step - loss: 17.7230 - mae: 18.2191\n",
            "Epoch 100/100\n",
            "8/8 [==============================] - 1s 74ms/step - loss: 27.0845 - mae: 27.5823\n"
          ],
          "name": "stdout"
        }
      ]
    },
    {
      "cell_type": "code",
      "metadata": {
        "colab": {
          "base_uri": "https://localhost:8080/",
          "height": 290
        },
        "id": "MjTvASUns0qh",
        "outputId": "cc12c1d1-224b-416f-a80e-3079e622cc99"
      },
      "source": [
        "plt.semilogx(history.history[\"lr\"], history.history[\"loss\"])\n",
        "plt.axis([1e-8, 1e-4, 0, 30])"
      ],
      "execution_count": null,
      "outputs": [
        {
          "output_type": "execute_result",
          "data": {
            "text/plain": [
              "(1e-08, 0.0001, 0.0, 30.0)"
            ]
          },
          "metadata": {
            "tags": []
          },
          "execution_count": 7
        },
        {
          "output_type": "display_data",
          "data": {
            "image/png": "[encoded data removed]",
            "text/plain": [
              "<Figure size 432x288 with 1 Axes>"
            ]
          },
          "metadata": {
            "tags": [],
            "needs_background": "light"
          }
        }
      ]
    },
    {
      "cell_type": "code",
      "metadata": {
        "id": "4uh-97bpLZCA"
      },
      "source": [
        "tf.keras.backend.clear_session()\n",
        "tf.random.set_seed(51)\n",
        "np.random.seed(51)\n",
        "#batch_size = 16\n",
        "dataset = windowed_dataset(x_train, window_size, batch_size, shuffle_buffer_size)\n",
        "\n",
        "model = tf.keras.models.Sequential([\n",
        "  tf.keras.layers.Conv1D(filters=32, kernel_size=3,\n",
        "                      strides=1, padding=\"causal\",\n",
        "                      activation=\"relu\",\n",
        "                      input_shape=[None, 1]),\n",
        "  tf.keras.layers.LSTM(32, return_sequences=True),\n",
        "  tf.keras.layers.LSTM(32, return_sequences=True),\n",
        "  tf.keras.layers.Dense(1),\n",
        "  tf.keras.layers.Lambda(lambda x: x * 200)\n",
        "])\n",
        "\n",
        "optimizer = tf.keras.optimizers.SGD(lr=1e-5, momentum=0.9)\n",
        "model.compile(loss=tf.keras.losses.Huber(),\n",
        "              optimizer=optimizer,\n",
        "              metrics=[\"mae\"])\n",
        "history = model.fit(dataset,epochs=500)"
      ],
      "execution_count": null,
      "outputs": []
    },
    {
      "cell_type": "code",
      "metadata": {
        "id": "MKkic-mLdkRZ"
      },
      "source": [
        "rnn_forecast = model_forecast(model, series[..., np.newaxis], window_size)\n",
        "rnn_forecast = rnn_forecast[split_time - window_size:-1, -1, 0]"
      ],
      "execution_count": null,
      "outputs": []
    },
    {
      "cell_type": "code",
      "metadata": {
        "id": "4N1toSetdnQq"
      },
      "source": [
        "plt.figure(figsize=(10, 6))\n",
        "plot_series(time_valid, x_valid)\n",
        "plot_series(time_valid, rnn_forecast)"
      ],
      "execution_count": null,
      "outputs": []
    },
    {
      "cell_type": "code",
      "metadata": {
        "id": "ULKO3JINdqkp"
      },
      "source": [
        "tf.keras.metrics.mean_absolute_error(x_valid, rnn_forecast).numpy()"
      ],
      "execution_count": null,
      "outputs": []
    },
    {
      "cell_type": "code",
      "metadata": {
        "id": "ok8LjNbbkig4"
      },
      "source": [
        "import matplotlib.image  as mpimg\n",
        "import matplotlib.pyplot as plt\n",
        "\n",
        "#-----------------------------------------------------------\n",
        "# Retrieve a list of list results on training and test data\n",
        "# sets for each training epoch\n",
        "#-----------------------------------------------------------\n",
        "mae=history.history['mae']\n",
        "loss=history.history['loss']\n",
        "\n",
        "epochs=range(len(loss)) # Get number of epochs\n",
        "\n",
        "#------------------------------------------------\n",
        "# Plot MAE and Loss\n",
        "#------------------------------------------------\n",
        "plt.plot(epochs, mae, 'r')\n",
        "plt.plot(epochs, loss, 'b')\n",
        "plt.title('MAE and Loss')\n",
        "plt.xlabel(\"Epochs\")\n",
        "plt.ylabel(\"Accuracy\")\n",
        "plt.legend([\"MAE\", \"Loss\"])\n",
        "\n",
        "plt.figure()\n",
        "\n",
        "epochs_zoom = epochs[200:]\n",
        "mae_zoom = mae[200:]\n",
        "loss_zoom = loss[200:]\n",
        "\n",
        "#------------------------------------------------\n",
        "# Plot Zoomed MAE and Loss\n",
        "#------------------------------------------------\n",
        "plt.plot(epochs_zoom, mae_zoom, 'r')\n",
        "plt.plot(epochs_zoom, loss_zoom, 'b')\n",
        "plt.title('MAE and Loss')\n",
        "plt.xlabel(\"Epochs\")\n",
        "plt.ylabel(\"Accuracy\")\n",
        "plt.legend([\"MAE\", \"Loss\"])\n",
        "\n",
        "plt.figure()"
      ],
      "execution_count": null,
      "outputs": []
    }
  ]
}